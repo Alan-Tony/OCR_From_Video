{
 "cells": [
  {
   "cell_type": "markdown",
   "metadata": {
    "id": "view-in-github"
   },
   "source": [
    "<a href=\"https://colab.research.google.com/github/Alan-Tony/OCR_From_Video/blob/main/Source.ipynb\" target=\"_parent\"><img src=\"https://colab.research.google.com/assets/colab-badge.svg\" alt=\"Open In Colab\"/></a>"
   ]
  },
  {
   "cell_type": "code",
   "execution_count": null,
   "metadata": {
    "colab": {
     "base_uri": "https://localhost:8080/"
    },
    "executionInfo": {
     "elapsed": 6768,
     "status": "ok",
     "timestamp": 1621258737058,
     "user": {
      "displayName": "Alan Tony",
      "photoUrl": "",
      "userId": "11589194827291587117"
     },
     "user_tz": -330
    },
    "id": "MgkbTdA_lfGF",
    "outputId": "fd0eaf8f-c80a-4010-a019-8bf0100786df"
   },
   "outputs": [],
   "source": [
    "#!pip install pytube\n",
    "from pytube import YouTube\n",
    "#!pip install pytesseract\n",
    "import pytesseract\n",
    "import cv2 as cv\n",
    "#from google.colab.patches import cv2_imshow\n",
    "import matplotlib.pyplot as plt\n",
    "import re"
   ]
  },
  {
   "cell_type": "code",
   "execution_count": null,
   "metadata": {
    "executionInfo": {
     "elapsed": 1569,
     "status": "ok",
     "timestamp": 1621258737625,
     "user": {
      "displayName": "Alan Tony",
      "photoUrl": "",
      "userId": "11589194827291587117"
     },
     "user_tz": -330
    },
    "id": "uWGatpDNjn8T"
   },
   "outputs": [],
   "source": [
    "#Change to any URL\n",
    "url = \"https://youtu.be/4Oc3Ty-GZy4\"\n",
    "video = YouTube(url)\n",
    "filename = re.sub('[^a-zA-Z0-9]', '_', video.title)\n",
    "#Run this to download the youtube video\n",
    "stream = video.streams.filter(res=\"360p\").first().download(filename = filename)\n"
   ]
  },
  {
   "cell_type": "code",
   "execution_count": null,
   "metadata": {
    "colab": {
     "base_uri": "https://localhost:8080/"
    },
    "executionInfo": {
     "elapsed": 1201,
     "status": "ok",
     "timestamp": 1621258740613,
     "user": {
      "displayName": "Alan Tony",
      "photoUrl": "",
      "userId": "11589194827291587117"
     },
     "user_tz": -330
    },
    "id": "V7v0jnGnfE-_",
    "outputId": "a3577273-7f3f-46a6-9cd8-54f82ff948d1"
   },
   "outputs": [],
   "source": [
    "details = video.streams.filter(res=\"360p\").first()\n",
    "print(details)"
   ]
  },
  {
   "cell_type": "code",
   "execution_count": null,
   "metadata": {
    "executionInfo": {
     "elapsed": 1356,
     "status": "ok",
     "timestamp": 1621258743114,
     "user": {
      "displayName": "Alan Tony",
      "photoUrl": "",
      "userId": "11589194827291587117"
     },
     "user_tz": -330
    },
    "id": "ZHeY-TwinViU"
   },
   "outputs": [],
   "source": [
    "cap = cv.VideoCapture(filename+'.mp4');\n",
    "cap.set(cv.CAP_PROP_FPS, details.fps)\n",
    "\n",
    "#testing\n",
    "if not cap.isOpened():\n",
    "  print('Video is not set')"
   ]
  },
  {
   "cell_type": "code",
   "execution_count": null,
   "metadata": {
    "colab": {
     "base_uri": "https://localhost:8080/",
     "height": 408
    },
    "executionInfo": {
     "elapsed": 56716,
     "status": "error",
     "timestamp": 1621259010818,
     "user": {
      "displayName": "Alan Tony",
      "photoUrl": "",
      "userId": "11589194827291587117"
     },
     "user_tz": -330
    },
    "id": "kdvcZH8hLZUy",
    "outputId": "6ea177cc-00d8-4721-94f1-9c58e759f301"
   },
   "outputs": [],
   "source": [
    "#while cap.isOpened():\n",
    "\n",
    "ret, frame = cap.read()\n",
    "\n",
    "cv.imshow('Video', frame)\n",
    "\n",
    "print(pytesseract.image_to_string(frame, lang = 'en'))\n",
    "\n",
    "\n",
    "#if cv.waitKey(1) & 0xFF == ord('q'):  #Enter q to quit\n",
    "#    break\n",
    "\n",
    "cv.destroyAllWindows()"
   ]
  },
  {
   "cell_type": "code",
   "execution_count": null,
   "metadata": {},
   "outputs": [],
   "source": []
  }
 ],
 "metadata": {
  "colab": {
   "collapsed_sections": [],
   "name": "Source.ipynb",
   "provenance": []
  },
  "kernelspec": {
   "display_name": "Python 3",
   "language": "python",
   "name": "python3"
  },
  "language_info": {
   "codemirror_mode": {
    "name": "ipython",
    "version": 3
   },
   "file_extension": ".py",
   "mimetype": "text/x-python",
   "name": "python",
   "nbconvert_exporter": "python",
   "pygments_lexer": "ipython3",
   "version": "3.8.2"
  }
 },
 "nbformat": 4,
 "nbformat_minor": 1
}
